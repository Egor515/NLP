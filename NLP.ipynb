{
  "nbformat": 4,
  "nbformat_minor": 0,
  "metadata": {
    "colab": {
      "provenance": [],
      "gpuType": "T4"
    },
    "kernelspec": {
      "name": "python3",
      "display_name": "Python 3"
    },
    "language_info": {
      "name": "python"
    },
    "accelerator": "GPU"
  },
  "cells": [
    {
      "cell_type": "code",
      "execution_count": 3,
      "metadata": {
        "id": "IHMgNojUxtsT"
      },
      "outputs": [],
      "source": [
        "import pandas as pd\n",
        "import numpy as np\n",
        "import matplotlib.pyplot as plt\n",
        "from tqdm import tqdm\n",
        "\n",
        "from sklearn.feature_extraction.text import TfidfVectorizer\n",
        "from sklearn.model_selection import train_test_split\n",
        "from sklearn.metrics import f1_score\n",
        "\n",
        "import torch\n",
        "from torch import nn, optim\n",
        "from torch.utils.data import Dataset, DataLoader\n",
        "\n",
        "DEVICE = torch.device(\"cuda\" if torch.cuda.is_available() else \"cpu\")\n"
      ]
    },
    {
      "cell_type": "code",
      "source": [
        "\n",
        "df = pd.read_csv(\"train (3).csv\", encoding='utf-8-sig')\n",
        "\n",
        "\n",
        "texts = df['text'].values\n",
        "\n",
        "\n",
        "labels = df['labels'].apply(lambda x: list(map(int, x.split())))\n",
        "labels = np.vstack(labels.values).astype(np.float32)\n",
        "NUM_LABELS = labels.shape[1]\n",
        "print(\"Пример текста:\", texts[0][:100], \"...\")\n",
        "print(\"Пример меток:\", labels[0])\n",
        "print(\"Размерность массива меток:\", labels.shape)"
      ],
      "metadata": {
        "colab": {
          "base_uri": "https://localhost:8080/"
        },
        "id": "_-oWM6lOx3Ng",
        "outputId": "4855efc1-dda4-4bb1-ea2b-95d08541e943"
      },
      "execution_count": 6,
      "outputs": [
        {
          "output_type": "stream",
          "name": "stdout",
          "text": [
            "Пример текста: 15 января\n",
            "Детская развлекательная программа\n",
            "15-00 бесплатно\n",
            "❗️\n",
            "@\n",
            "cafeotdyh\n",
            "Кафе \"Отдых\"\n",
            "📍\n",
            "Запись обя ...\n",
            "Пример меток: [1. 0. 0. 0. 1. 0. 0. 0. 1. 0. 0. 0. 1. 1. 1. 1. 1. 0. 0. 1.]\n",
            "Размерность массива меток: (29568, 20)\n"
          ]
        }
      ]
    },
    {
      "cell_type": "code",
      "source": [
        "vectorizer = TfidfVectorizer(max_features=20000)  # можно менять max_features\n",
        "X = vectorizer.fit_transform(df['text']).toarray()\n",
        "X_train, X_val, y_train, y_val = train_test_split(\n",
        "    X, labels, test_size=0.1, random_state=42\n",
        ")"
      ],
      "metadata": {
        "id": "--Wi01CXyUr9"
      },
      "execution_count": 7,
      "outputs": []
    },
    {
      "cell_type": "code",
      "source": [
        "class TfidfDataset(Dataset):\n",
        "    def __init__(self, X, y):\n",
        "        self.X = torch.tensor(X, dtype=torch.float32)\n",
        "        self.y = torch.tensor(y, dtype=torch.float32)\n",
        "\n",
        "    def __len__(self):\n",
        "        return len(self.X)\n",
        "\n",
        "    def __getitem__(self, idx):\n",
        "        return self.X[idx], self.y[idx]\n",
        "\n",
        "train_dataset = TfidfDataset(X_train, y_train)\n",
        "val_dataset = TfidfDataset(X_val, y_val)\n",
        "\n",
        "BATCH_SIZE = 64\n",
        "train_loader = DataLoader(train_dataset, batch_size=BATCH_SIZE, shuffle=True)\n",
        "val_loader = DataLoader(val_dataset, batch_size=BATCH_SIZE)\n"
      ],
      "metadata": {
        "id": "UTJaQiWrx3P0"
      },
      "execution_count": 8,
      "outputs": []
    },
    {
      "cell_type": "code",
      "source": [
        "class TfidfNN(nn.Module):\n",
        "    def __init__(self, input_dim, num_labels):\n",
        "        super().__init__()\n",
        "        self.model = nn.Sequential(\n",
        "            nn.Linear(input_dim, 512),\n",
        "            nn.ReLU(),\n",
        "            nn.Dropout(0.3),\n",
        "            nn.Linear(512, num_labels)\n",
        "        )\n",
        "\n",
        "    def forward(self, x):\n",
        "        return self.model(x)\n",
        "\n",
        "model = TfidfNN(input_dim=X_train.shape[1], num_labels=NUM_LABELS).to(DEVICE)\n"
      ],
      "metadata": {
        "id": "_JfWmshUx3R5"
      },
      "execution_count": 9,
      "outputs": []
    },
    {
      "cell_type": "code",
      "source": [
        "EPOCHS = 20\n",
        "EARLY_STOPPING_PATIENCE = 3\n",
        "MODEL_SAVE_PATH = 'best_tfidf_nn.pt'\n",
        "\n",
        "criterion = nn.BCEWithLogitsLoss()\n",
        "optimizer = optim.Adam(model.parameters(), lr=1e-3)\n",
        "total_steps = len(train_loader) * EPOCHS\n",
        "\n",
        "scheduler = optim.lr_scheduler.OneCycleLR(\n",
        "    optimizer,\n",
        "    max_lr=1e-2,\n",
        "    steps_per_epoch=len(train_loader),\n",
        "    epochs=EPOCHS,\n",
        "    pct_start=0.1\n",
        ")\n",
        "\n",
        "def train_epoch(model, loader):\n",
        "    model.train()\n",
        "    epoch_loss = 0\n",
        "    all_preds, all_labels = [], []\n",
        "\n",
        "    for x_batch, y_batch in loader:\n",
        "        x_batch = x_batch.to(DEVICE)\n",
        "        y_batch = y_batch.to(DEVICE)\n",
        "\n",
        "        optimizer.zero_grad()\n",
        "        outputs = model(x_batch)\n",
        "        loss = criterion(outputs, y_batch)\n",
        "        loss.backward()\n",
        "        optimizer.step()\n",
        "        scheduler.step()\n",
        "\n",
        "        epoch_loss += loss.item()\n",
        "        all_preds.append(torch.sigmoid(outputs).detach().cpu())\n",
        "        all_labels.append(y_batch.detach().cpu())\n",
        "\n",
        "    preds = torch.cat(all_preds)\n",
        "    targets = torch.cat(all_labels)\n",
        "    f1 = f1_score(targets, preds > 0.5, average='micro')\n",
        "    return epoch_loss / len(loader), f1\n",
        "\n",
        "\n",
        "def eval_model(model, loader):\n",
        "    model.eval()\n",
        "    eval_loss = 0\n",
        "    all_preds, all_labels = [], []\n",
        "\n",
        "    with torch.no_grad():\n",
        "        for x_batch, y_batch in loader:\n",
        "            x_batch = x_batch.to(DEVICE)\n",
        "            y_batch = y_batch.to(DEVICE)\n",
        "\n",
        "            outputs = model(x_batch)\n",
        "            loss = criterion(outputs, y_batch)\n",
        "\n",
        "            eval_loss += loss.item()\n",
        "            all_preds.append(torch.sigmoid(outputs).cpu())\n",
        "            all_labels.append(y_batch.cpu())\n",
        "\n",
        "    preds = torch.cat(all_preds)\n",
        "    targets = torch.cat(all_labels)\n",
        "    f1 = f1_score(targets, preds > 0.5, average='micro')\n",
        "    return eval_loss / len(loader), f1\n"
      ],
      "metadata": {
        "id": "hCw-5Kvzx3Tu"
      },
      "execution_count": 10,
      "outputs": []
    },
    {
      "cell_type": "code",
      "source": [
        "history = {'train_loss': [], 'val_loss': [], 'val_f1': []}\n",
        "best_f1 = 0\n",
        "early_stop_counter = 0\n",
        "\n",
        "for epoch in range(EPOCHS):\n",
        "    print(f\"\\nEpoch {epoch + 1}/{EPOCHS}\")\n",
        "    train_loss, train_f1 = train_epoch(model, train_loader)\n",
        "    val_loss, val_f1 = eval_model(model, val_loader)\n",
        "\n",
        "    print(f\"Train Loss: {train_loss:.4f} | Val Loss: {val_loss:.4f} | Val F1: {val_f1:.4f}\")\n",
        "    history['train_loss'].append(train_loss)\n",
        "    history['val_loss'].append(val_loss)\n",
        "    history['val_f1'].append(val_f1)\n",
        "\n",
        "    if val_f1 > best_f1:\n",
        "        best_f1 = val_f1\n",
        "        torch.save(model.state_dict(), MODEL_SAVE_PATH)\n",
        "        early_stop_counter = 0\n",
        "        print(\"Модель сохранена\")\n",
        "    else:\n",
        "        early_stop_counter += 1\n",
        "        if early_stop_counter >= EARLY_STOPPING_PATIENCE:\n",
        "            print(\"Ранняя остановка\")\n",
        "            break\n"
      ],
      "metadata": {
        "colab": {
          "base_uri": "https://localhost:8080/"
        },
        "id": "mFaagKvQx3Vj",
        "outputId": "21e6169c-6873-4708-897e-9e0e7944c61f"
      },
      "execution_count": 11,
      "outputs": [
        {
          "output_type": "stream",
          "name": "stdout",
          "text": [
            "\n",
            "Epoch 1/20\n",
            "Train Loss: 0.3500 | Val Loss: 0.2112 | Val F1: 0.9144\n",
            "✅ Model saved.\n",
            "\n",
            "Epoch 2/20\n",
            "Train Loss: 0.1818 | Val Loss: 0.1924 | Val F1: 0.9230\n",
            "✅ Model saved.\n",
            "\n",
            "Epoch 3/20\n",
            "Train Loss: 0.1157 | Val Loss: 0.2024 | Val F1: 0.9276\n",
            "✅ Model saved.\n",
            "\n",
            "Epoch 4/20\n",
            "Train Loss: 0.0778 | Val Loss: 0.2294 | Val F1: 0.9274\n",
            "\n",
            "Epoch 5/20\n",
            "Train Loss: 0.0605 | Val Loss: 0.2468 | Val F1: 0.9284\n",
            "✅ Model saved.\n",
            "\n",
            "Epoch 6/20\n",
            "Train Loss: 0.0489 | Val Loss: 0.2628 | Val F1: 0.9289\n",
            "✅ Model saved.\n",
            "\n",
            "Epoch 7/20\n",
            "Train Loss: 0.0415 | Val Loss: 0.2696 | Val F1: 0.9301\n",
            "✅ Model saved.\n",
            "\n",
            "Epoch 8/20\n",
            "Train Loss: 0.0356 | Val Loss: 0.2862 | Val F1: 0.9309\n",
            "✅ Model saved.\n",
            "\n",
            "Epoch 9/20\n",
            "Train Loss: 0.0302 | Val Loss: 0.2901 | Val F1: 0.9316\n",
            "✅ Model saved.\n",
            "\n",
            "Epoch 10/20\n",
            "Train Loss: 0.0259 | Val Loss: 0.2963 | Val F1: 0.9321\n",
            "✅ Model saved.\n",
            "\n",
            "Epoch 11/20\n",
            "Train Loss: 0.0224 | Val Loss: 0.3034 | Val F1: 0.9324\n",
            "✅ Model saved.\n",
            "\n",
            "Epoch 12/20\n",
            "Train Loss: 0.0192 | Val Loss: 0.3129 | Val F1: 0.9321\n",
            "\n",
            "Epoch 13/20\n",
            "Train Loss: 0.0170 | Val Loss: 0.3141 | Val F1: 0.9327\n",
            "✅ Model saved.\n",
            "\n",
            "Epoch 14/20\n",
            "Train Loss: 0.0141 | Val Loss: 0.3239 | Val F1: 0.9326\n",
            "\n",
            "Epoch 15/20\n",
            "Train Loss: 0.0126 | Val Loss: 0.3275 | Val F1: 0.9324\n",
            "\n",
            "Epoch 16/20\n",
            "Train Loss: 0.0112 | Val Loss: 0.3330 | Val F1: 0.9330\n",
            "✅ Model saved.\n",
            "\n",
            "Epoch 17/20\n",
            "Train Loss: 0.0100 | Val Loss: 0.3359 | Val F1: 0.9327\n",
            "\n",
            "Epoch 18/20\n",
            "Train Loss: 0.0095 | Val Loss: 0.3365 | Val F1: 0.9328\n",
            "\n",
            "Epoch 19/20\n",
            "Train Loss: 0.0087 | Val Loss: 0.3371 | Val F1: 0.9328\n",
            "⛔ Early stopping triggered.\n"
          ]
        }
      ]
    },
    {
      "cell_type": "code",
      "source": [
        "plt.figure(figsize=(12, 4))\n",
        "\n",
        "plt.subplot(1, 2, 1)\n",
        "plt.plot(history['train_loss'], label='Train Loss')\n",
        "plt.plot(history['val_loss'], label='Val Loss')\n",
        "plt.title(\"Loss Curve\")\n",
        "plt.legend()\n",
        "\n",
        "plt.subplot(1, 2, 2)\n",
        "plt.plot(history['val_f1'], label='Val F1')\n",
        "plt.title(\"Validation F1\")\n",
        "plt.legend()\n",
        "\n",
        "plt.tight_layout()\n",
        "plt.show()\n"
      ],
      "metadata": {
        "colab": {
          "base_uri": "https://localhost:8080/",
          "height": 344
        },
        "id": "goOl0YnWx3ZN",
        "outputId": "1d95e99a-7bab-44a1-8b0e-6181d771e4c7"
      },
      "execution_count": 12,
      "outputs": [
        {
          "output_type": "display_data",
          "data": {
            "text/plain": [
              "<Figure size 1200x400 with 2 Axes>"
            ],
            "image/png": "[encoded data removed]"
          },
          "metadata": {}
        }
      ]
    },
    {
      "cell_type": "code",
      "source": [
        "\n",
        "\n",
        "DEVICE = torch.device(\"cuda\" if torch.cuda.is_available() else \"cpu\")\n",
        "\n",
        "class TfidfNN(nn.Module):\n",
        "    def __init__(self, input_dim, num_labels):\n",
        "        super().__init__()\n",
        "        self.model = nn.Sequential(\n",
        "            nn.Linear(input_dim, 512),\n",
        "            nn.ReLU(),\n",
        "            nn.Dropout(0.3),\n",
        "            nn.Linear(512, num_labels)\n",
        "        )\n",
        "\n",
        "    def forward(self, x):\n",
        "        return self.model(x)\n",
        "\n",
        "\n",
        "df_test = pd.read_csv(\"test.csv\", encoding='utf-8-sig')\n",
        "test_texts = df_test['text'].values\n",
        "test_ids = df_test['id'].values\n",
        "df_train = pd.read_csv(\"train (3).csv\", encoding='utf-8-sig')\n",
        "train_texts = df_train['text'].values\n",
        "\n",
        "vectorizer = TfidfVectorizer(max_features=20000)\n",
        "vectorizer.fit(train_texts)\n",
        "\n",
        "X_test = vectorizer.transform(test_texts).toarray()\n",
        "\n",
        "\n",
        "labels = df_train['labels'].apply(lambda x: list(map(int, x.split())))\n",
        "labels = np.vstack(labels.values).astype(np.float32)\n",
        "NUM_LABELS = labels.shape[1]\n",
        "\n",
        "\n",
        "model = TfidfNN(input_dim=X_test.shape[1], num_labels=NUM_LABELS).to(DEVICE)\n",
        "model.load_state_dict(torch.load('best_tfidf_nn.pt', map_location=DEVICE))\n",
        "model.eval()\n",
        "\n",
        "\n",
        "class TfidfDataset(Dataset):\n",
        "    def __init__(self, X):\n",
        "        self.X = torch.tensor(X, dtype=torch.float32)\n",
        "\n",
        "    def __len__(self):\n",
        "        return len(self.X)\n",
        "\n",
        "    def __getitem__(self, idx):\n",
        "        return self.X[idx]\n",
        "\n",
        "test_dataset = TfidfDataset(X_test)\n",
        "test_loader = DataLoader(test_dataset, batch_size=64, shuffle=False)\n",
        "\n",
        "all_preds = []\n",
        "\n",
        "with torch.no_grad():\n",
        "    for x_batch in test_loader:\n",
        "        x_batch = x_batch.to(DEVICE)\n",
        "        outputs = model(x_batch)\n",
        "        preds = torch.sigmoid(outputs).cpu().numpy()\n",
        "        all_preds.append(preds)\n",
        "\n",
        "all_preds = np.vstack(all_preds)\n",
        "\n",
        "\n",
        "all_preds_bin = (all_preds > 0.5).astype(int)\n",
        "\n",
        "\n",
        "labels_str = [' '.join(map(str, row)) for row in all_preds_bin]\n",
        "\n",
        "submission_df = pd.DataFrame({\n",
        "    'id': test_ids,\n",
        "    'labels': labels_str\n",
        "})\n",
        "\n",
        "submission_df.to_csv('submission.csv', index=False)\n",
        "print(\"Предсказания сохранены в submission.csv\")\n"
      ],
      "metadata": {
        "colab": {
          "base_uri": "https://localhost:8080/"
        },
        "id": "j3f51U5Kx3dY",
        "outputId": "c0c28450-ded5-4365-9561-d82c7938f2aa"
      },
      "execution_count": 6,
      "outputs": [
        {
          "output_type": "stream",
          "name": "stdout",
          "text": [
            "Предсказания сохранены в submission.csv\n"
          ]
        }
      ]
    },
    {
      "cell_type": "code",
      "source": [],
      "metadata": {
        "id": "_bXipvuXx3fc"
      },
      "execution_count": null,
      "outputs": []
    },
    {
      "cell_type": "code",
      "source": [],
      "metadata": {
        "id": "0Mq7md3ox3hR"
      },
      "execution_count": null,
      "outputs": []
    },
    {
      "cell_type": "code",
      "source": [],
      "metadata": {
        "id": "H-GQX8yux3i3"
      },
      "execution_count": null,
      "outputs": []
    }
  ]
}